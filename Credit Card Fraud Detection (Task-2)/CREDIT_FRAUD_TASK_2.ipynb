{
 "cells": [
  {
   "cell_type": "markdown",
   "metadata": {},
   "source": [
    "# CODSOFT TASK-1 CREDIT CARD FRAUD DETECTION"
   ]
  },
  {
   "cell_type": "markdown",
   "metadata": {},
   "source": [
    "### IMPORTING LIBRARIES"
   ]
  },
  {
   "cell_type": "code",
   "execution_count": 24,
   "metadata": {
    "execution": {
     "iopub.execute_input": "2023-08-15T12:05:54.358000Z",
     "iopub.status.busy": "2023-08-15T12:05:54.357652Z",
     "iopub.status.idle": "2023-08-15T12:05:55.092917Z",
     "shell.execute_reply": "2023-08-15T12:05:55.091357Z",
     "shell.execute_reply.started": "2023-08-15T12:05:54.357970Z"
    }
   },
   "outputs": [],
   "source": [
    "import numpy as np\n",
    "import pandas as pd\n",
    "import matplotlib.pyplot as plt\n",
    "import seaborn as sns"
   ]
  },
  {
   "cell_type": "markdown",
   "metadata": {},
   "source": [
    "### READING DATASET"
   ]
  },
  {
   "cell_type": "code",
   "execution_count": 25,
   "metadata": {
    "execution": {
     "iopub.execute_input": "2023-08-15T12:05:55.095437Z",
     "iopub.status.busy": "2023-08-15T12:05:55.095098Z",
     "iopub.status.idle": "2023-08-15T12:05:58.710133Z",
     "shell.execute_reply": "2023-08-15T12:05:58.709144Z",
     "shell.execute_reply.started": "2023-08-15T12:05:55.095414Z"
    }
   },
   "outputs": [],
   "source": [
    "df=pd.read_csv('creditcard.csv')"
   ]
  },
  {
   "cell_type": "markdown",
   "metadata": {},
   "source": [
    "### DATA CLEANING AND PREPROCESSING"
   ]
  },
  {
   "cell_type": "code",
   "execution_count": 3,
   "metadata": {
    "execution": {
     "iopub.execute_input": "2023-08-15T12:05:58.711452Z",
     "iopub.status.busy": "2023-08-15T12:05:58.711149Z",
     "iopub.status.idle": "2023-08-15T12:05:58.749489Z",
     "shell.execute_reply": "2023-08-15T12:05:58.747947Z",
     "shell.execute_reply.started": "2023-08-15T12:05:58.711427Z"
    }
   },
   "outputs": [
    {
     "data": {
      "text/html": [
       "<div>\n",
       "<style scoped>\n",
       "    .dataframe tbody tr th:only-of-type {\n",
       "        vertical-align: middle;\n",
       "    }\n",
       "\n",
       "    .dataframe tbody tr th {\n",
       "        vertical-align: top;\n",
       "    }\n",
       "\n",
       "    .dataframe thead th {\n",
       "        text-align: right;\n",
       "    }\n",
       "</style>\n",
       "<table border=\"1\" class=\"dataframe\">\n",
       "  <thead>\n",
       "    <tr style=\"text-align: right;\">\n",
       "      <th></th>\n",
       "      <th>Time</th>\n",
       "      <th>V1</th>\n",
       "      <th>V2</th>\n",
       "      <th>V3</th>\n",
       "      <th>V4</th>\n",
       "      <th>V5</th>\n",
       "      <th>V6</th>\n",
       "      <th>V7</th>\n",
       "      <th>V8</th>\n",
       "      <th>V9</th>\n",
       "      <th>...</th>\n",
       "      <th>V21</th>\n",
       "      <th>V22</th>\n",
       "      <th>V23</th>\n",
       "      <th>V24</th>\n",
       "      <th>V25</th>\n",
       "      <th>V26</th>\n",
       "      <th>V27</th>\n",
       "      <th>V28</th>\n",
       "      <th>Amount</th>\n",
       "      <th>Class</th>\n",
       "    </tr>\n",
       "  </thead>\n",
       "  <tbody>\n",
       "    <tr>\n",
       "      <th>0</th>\n",
       "      <td>0.0</td>\n",
       "      <td>-1.359807</td>\n",
       "      <td>-0.072781</td>\n",
       "      <td>2.536347</td>\n",
       "      <td>1.378155</td>\n",
       "      <td>-0.338321</td>\n",
       "      <td>0.462388</td>\n",
       "      <td>0.239599</td>\n",
       "      <td>0.098698</td>\n",
       "      <td>0.363787</td>\n",
       "      <td>...</td>\n",
       "      <td>-0.018307</td>\n",
       "      <td>0.277838</td>\n",
       "      <td>-0.110474</td>\n",
       "      <td>0.066928</td>\n",
       "      <td>0.128539</td>\n",
       "      <td>-0.189115</td>\n",
       "      <td>0.133558</td>\n",
       "      <td>-0.021053</td>\n",
       "      <td>149.62</td>\n",
       "      <td>0</td>\n",
       "    </tr>\n",
       "    <tr>\n",
       "      <th>1</th>\n",
       "      <td>0.0</td>\n",
       "      <td>1.191857</td>\n",
       "      <td>0.266151</td>\n",
       "      <td>0.166480</td>\n",
       "      <td>0.448154</td>\n",
       "      <td>0.060018</td>\n",
       "      <td>-0.082361</td>\n",
       "      <td>-0.078803</td>\n",
       "      <td>0.085102</td>\n",
       "      <td>-0.255425</td>\n",
       "      <td>...</td>\n",
       "      <td>-0.225775</td>\n",
       "      <td>-0.638672</td>\n",
       "      <td>0.101288</td>\n",
       "      <td>-0.339846</td>\n",
       "      <td>0.167170</td>\n",
       "      <td>0.125895</td>\n",
       "      <td>-0.008983</td>\n",
       "      <td>0.014724</td>\n",
       "      <td>2.69</td>\n",
       "      <td>0</td>\n",
       "    </tr>\n",
       "    <tr>\n",
       "      <th>2</th>\n",
       "      <td>1.0</td>\n",
       "      <td>-1.358354</td>\n",
       "      <td>-1.340163</td>\n",
       "      <td>1.773209</td>\n",
       "      <td>0.379780</td>\n",
       "      <td>-0.503198</td>\n",
       "      <td>1.800499</td>\n",
       "      <td>0.791461</td>\n",
       "      <td>0.247676</td>\n",
       "      <td>-1.514654</td>\n",
       "      <td>...</td>\n",
       "      <td>0.247998</td>\n",
       "      <td>0.771679</td>\n",
       "      <td>0.909412</td>\n",
       "      <td>-0.689281</td>\n",
       "      <td>-0.327642</td>\n",
       "      <td>-0.139097</td>\n",
       "      <td>-0.055353</td>\n",
       "      <td>-0.059752</td>\n",
       "      <td>378.66</td>\n",
       "      <td>0</td>\n",
       "    </tr>\n",
       "    <tr>\n",
       "      <th>3</th>\n",
       "      <td>1.0</td>\n",
       "      <td>-0.966272</td>\n",
       "      <td>-0.185226</td>\n",
       "      <td>1.792993</td>\n",
       "      <td>-0.863291</td>\n",
       "      <td>-0.010309</td>\n",
       "      <td>1.247203</td>\n",
       "      <td>0.237609</td>\n",
       "      <td>0.377436</td>\n",
       "      <td>-1.387024</td>\n",
       "      <td>...</td>\n",
       "      <td>-0.108300</td>\n",
       "      <td>0.005274</td>\n",
       "      <td>-0.190321</td>\n",
       "      <td>-1.175575</td>\n",
       "      <td>0.647376</td>\n",
       "      <td>-0.221929</td>\n",
       "      <td>0.062723</td>\n",
       "      <td>0.061458</td>\n",
       "      <td>123.50</td>\n",
       "      <td>0</td>\n",
       "    </tr>\n",
       "    <tr>\n",
       "      <th>4</th>\n",
       "      <td>2.0</td>\n",
       "      <td>-1.158233</td>\n",
       "      <td>0.877737</td>\n",
       "      <td>1.548718</td>\n",
       "      <td>0.403034</td>\n",
       "      <td>-0.407193</td>\n",
       "      <td>0.095921</td>\n",
       "      <td>0.592941</td>\n",
       "      <td>-0.270533</td>\n",
       "      <td>0.817739</td>\n",
       "      <td>...</td>\n",
       "      <td>-0.009431</td>\n",
       "      <td>0.798278</td>\n",
       "      <td>-0.137458</td>\n",
       "      <td>0.141267</td>\n",
       "      <td>-0.206010</td>\n",
       "      <td>0.502292</td>\n",
       "      <td>0.219422</td>\n",
       "      <td>0.215153</td>\n",
       "      <td>69.99</td>\n",
       "      <td>0</td>\n",
       "    </tr>\n",
       "  </tbody>\n",
       "</table>\n",
       "<p>5 rows × 31 columns</p>\n",
       "</div>"
      ],
      "text/plain": [
       "   Time        V1        V2        V3        V4        V5        V6        V7  \\\n",
       "0   0.0 -1.359807 -0.072781  2.536347  1.378155 -0.338321  0.462388  0.239599   \n",
       "1   0.0  1.191857  0.266151  0.166480  0.448154  0.060018 -0.082361 -0.078803   \n",
       "2   1.0 -1.358354 -1.340163  1.773209  0.379780 -0.503198  1.800499  0.791461   \n",
       "3   1.0 -0.966272 -0.185226  1.792993 -0.863291 -0.010309  1.247203  0.237609   \n",
       "4   2.0 -1.158233  0.877737  1.548718  0.403034 -0.407193  0.095921  0.592941   \n",
       "\n",
       "         V8        V9  ...       V21       V22       V23       V24       V25  \\\n",
       "0  0.098698  0.363787  ... -0.018307  0.277838 -0.110474  0.066928  0.128539   \n",
       "1  0.085102 -0.255425  ... -0.225775 -0.638672  0.101288 -0.339846  0.167170   \n",
       "2  0.247676 -1.514654  ...  0.247998  0.771679  0.909412 -0.689281 -0.327642   \n",
       "3  0.377436 -1.387024  ... -0.108300  0.005274 -0.190321 -1.175575  0.647376   \n",
       "4 -0.270533  0.817739  ... -0.009431  0.798278 -0.137458  0.141267 -0.206010   \n",
       "\n",
       "        V26       V27       V28  Amount  Class  \n",
       "0 -0.189115  0.133558 -0.021053  149.62      0  \n",
       "1  0.125895 -0.008983  0.014724    2.69      0  \n",
       "2 -0.139097 -0.055353 -0.059752  378.66      0  \n",
       "3 -0.221929  0.062723  0.061458  123.50      0  \n",
       "4  0.502292  0.219422  0.215153   69.99      0  \n",
       "\n",
       "[5 rows x 31 columns]"
      ]
     },
     "execution_count": 3,
     "metadata": {},
     "output_type": "execute_result"
    }
   ],
   "source": [
    "df.head()"
   ]
  },
  {
   "cell_type": "code",
   "execution_count": 4,
   "metadata": {
    "execution": {
     "iopub.execute_input": "2023-08-15T12:05:58.752995Z",
     "iopub.status.busy": "2023-08-15T12:05:58.752192Z",
     "iopub.status.idle": "2023-08-15T12:05:58.758034Z",
     "shell.execute_reply": "2023-08-15T12:05:58.757347Z",
     "shell.execute_reply.started": "2023-08-15T12:05:58.752960Z"
    }
   },
   "outputs": [
    {
     "data": {
      "text/plain": [
       "(284807, 31)"
      ]
     },
     "execution_count": 4,
     "metadata": {},
     "output_type": "execute_result"
    }
   ],
   "source": [
    "df.shape"
   ]
  },
  {
   "cell_type": "code",
   "execution_count": 5,
   "metadata": {
    "execution": {
     "iopub.execute_input": "2023-08-15T12:05:58.759391Z",
     "iopub.status.busy": "2023-08-15T12:05:58.758935Z",
     "iopub.status.idle": "2023-08-15T12:05:59.149432Z",
     "shell.execute_reply": "2023-08-15T12:05:59.147917Z",
     "shell.execute_reply.started": "2023-08-15T12:05:58.759360Z"
    }
   },
   "outputs": [
    {
     "data": {
      "text/html": [
       "<div>\n",
       "<style scoped>\n",
       "    .dataframe tbody tr th:only-of-type {\n",
       "        vertical-align: middle;\n",
       "    }\n",
       "\n",
       "    .dataframe tbody tr th {\n",
       "        vertical-align: top;\n",
       "    }\n",
       "\n",
       "    .dataframe thead th {\n",
       "        text-align: right;\n",
       "    }\n",
       "</style>\n",
       "<table border=\"1\" class=\"dataframe\">\n",
       "  <thead>\n",
       "    <tr style=\"text-align: right;\">\n",
       "      <th></th>\n",
       "      <th>Time</th>\n",
       "      <th>V1</th>\n",
       "      <th>V2</th>\n",
       "      <th>V3</th>\n",
       "      <th>V4</th>\n",
       "      <th>V5</th>\n",
       "      <th>V6</th>\n",
       "      <th>V7</th>\n",
       "      <th>V8</th>\n",
       "      <th>V9</th>\n",
       "      <th>...</th>\n",
       "      <th>V21</th>\n",
       "      <th>V22</th>\n",
       "      <th>V23</th>\n",
       "      <th>V24</th>\n",
       "      <th>V25</th>\n",
       "      <th>V26</th>\n",
       "      <th>V27</th>\n",
       "      <th>V28</th>\n",
       "      <th>Amount</th>\n",
       "      <th>Class</th>\n",
       "    </tr>\n",
       "  </thead>\n",
       "  <tbody>\n",
       "    <tr>\n",
       "      <th>count</th>\n",
       "      <td>284807.000000</td>\n",
       "      <td>2.848070e+05</td>\n",
       "      <td>2.848070e+05</td>\n",
       "      <td>2.848070e+05</td>\n",
       "      <td>2.848070e+05</td>\n",
       "      <td>2.848070e+05</td>\n",
       "      <td>2.848070e+05</td>\n",
       "      <td>2.848070e+05</td>\n",
       "      <td>2.848070e+05</td>\n",
       "      <td>2.848070e+05</td>\n",
       "      <td>...</td>\n",
       "      <td>2.848070e+05</td>\n",
       "      <td>2.848070e+05</td>\n",
       "      <td>2.848070e+05</td>\n",
       "      <td>2.848070e+05</td>\n",
       "      <td>2.848070e+05</td>\n",
       "      <td>2.848070e+05</td>\n",
       "      <td>2.848070e+05</td>\n",
       "      <td>2.848070e+05</td>\n",
       "      <td>284807.000000</td>\n",
       "      <td>284807.000000</td>\n",
       "    </tr>\n",
       "    <tr>\n",
       "      <th>mean</th>\n",
       "      <td>94813.859575</td>\n",
       "      <td>1.168375e-15</td>\n",
       "      <td>3.416908e-16</td>\n",
       "      <td>-1.379537e-15</td>\n",
       "      <td>2.074095e-15</td>\n",
       "      <td>9.604066e-16</td>\n",
       "      <td>1.487313e-15</td>\n",
       "      <td>-5.556467e-16</td>\n",
       "      <td>1.213481e-16</td>\n",
       "      <td>-2.406331e-15</td>\n",
       "      <td>...</td>\n",
       "      <td>1.654067e-16</td>\n",
       "      <td>-3.568593e-16</td>\n",
       "      <td>2.578648e-16</td>\n",
       "      <td>4.473266e-15</td>\n",
       "      <td>5.340915e-16</td>\n",
       "      <td>1.683437e-15</td>\n",
       "      <td>-3.660091e-16</td>\n",
       "      <td>-1.227390e-16</td>\n",
       "      <td>88.349619</td>\n",
       "      <td>0.001727</td>\n",
       "    </tr>\n",
       "    <tr>\n",
       "      <th>std</th>\n",
       "      <td>47488.145955</td>\n",
       "      <td>1.958696e+00</td>\n",
       "      <td>1.651309e+00</td>\n",
       "      <td>1.516255e+00</td>\n",
       "      <td>1.415869e+00</td>\n",
       "      <td>1.380247e+00</td>\n",
       "      <td>1.332271e+00</td>\n",
       "      <td>1.237094e+00</td>\n",
       "      <td>1.194353e+00</td>\n",
       "      <td>1.098632e+00</td>\n",
       "      <td>...</td>\n",
       "      <td>7.345240e-01</td>\n",
       "      <td>7.257016e-01</td>\n",
       "      <td>6.244603e-01</td>\n",
       "      <td>6.056471e-01</td>\n",
       "      <td>5.212781e-01</td>\n",
       "      <td>4.822270e-01</td>\n",
       "      <td>4.036325e-01</td>\n",
       "      <td>3.300833e-01</td>\n",
       "      <td>250.120109</td>\n",
       "      <td>0.041527</td>\n",
       "    </tr>\n",
       "    <tr>\n",
       "      <th>min</th>\n",
       "      <td>0.000000</td>\n",
       "      <td>-5.640751e+01</td>\n",
       "      <td>-7.271573e+01</td>\n",
       "      <td>-4.832559e+01</td>\n",
       "      <td>-5.683171e+00</td>\n",
       "      <td>-1.137433e+02</td>\n",
       "      <td>-2.616051e+01</td>\n",
       "      <td>-4.355724e+01</td>\n",
       "      <td>-7.321672e+01</td>\n",
       "      <td>-1.343407e+01</td>\n",
       "      <td>...</td>\n",
       "      <td>-3.483038e+01</td>\n",
       "      <td>-1.093314e+01</td>\n",
       "      <td>-4.480774e+01</td>\n",
       "      <td>-2.836627e+00</td>\n",
       "      <td>-1.029540e+01</td>\n",
       "      <td>-2.604551e+00</td>\n",
       "      <td>-2.256568e+01</td>\n",
       "      <td>-1.543008e+01</td>\n",
       "      <td>0.000000</td>\n",
       "      <td>0.000000</td>\n",
       "    </tr>\n",
       "    <tr>\n",
       "      <th>25%</th>\n",
       "      <td>54201.500000</td>\n",
       "      <td>-9.203734e-01</td>\n",
       "      <td>-5.985499e-01</td>\n",
       "      <td>-8.903648e-01</td>\n",
       "      <td>-8.486401e-01</td>\n",
       "      <td>-6.915971e-01</td>\n",
       "      <td>-7.682956e-01</td>\n",
       "      <td>-5.540759e-01</td>\n",
       "      <td>-2.086297e-01</td>\n",
       "      <td>-6.430976e-01</td>\n",
       "      <td>...</td>\n",
       "      <td>-2.283949e-01</td>\n",
       "      <td>-5.423504e-01</td>\n",
       "      <td>-1.618463e-01</td>\n",
       "      <td>-3.545861e-01</td>\n",
       "      <td>-3.171451e-01</td>\n",
       "      <td>-3.269839e-01</td>\n",
       "      <td>-7.083953e-02</td>\n",
       "      <td>-5.295979e-02</td>\n",
       "      <td>5.600000</td>\n",
       "      <td>0.000000</td>\n",
       "    </tr>\n",
       "    <tr>\n",
       "      <th>50%</th>\n",
       "      <td>84692.000000</td>\n",
       "      <td>1.810880e-02</td>\n",
       "      <td>6.548556e-02</td>\n",
       "      <td>1.798463e-01</td>\n",
       "      <td>-1.984653e-02</td>\n",
       "      <td>-5.433583e-02</td>\n",
       "      <td>-2.741871e-01</td>\n",
       "      <td>4.010308e-02</td>\n",
       "      <td>2.235804e-02</td>\n",
       "      <td>-5.142873e-02</td>\n",
       "      <td>...</td>\n",
       "      <td>-2.945017e-02</td>\n",
       "      <td>6.781943e-03</td>\n",
       "      <td>-1.119293e-02</td>\n",
       "      <td>4.097606e-02</td>\n",
       "      <td>1.659350e-02</td>\n",
       "      <td>-5.213911e-02</td>\n",
       "      <td>1.342146e-03</td>\n",
       "      <td>1.124383e-02</td>\n",
       "      <td>22.000000</td>\n",
       "      <td>0.000000</td>\n",
       "    </tr>\n",
       "    <tr>\n",
       "      <th>75%</th>\n",
       "      <td>139320.500000</td>\n",
       "      <td>1.315642e+00</td>\n",
       "      <td>8.037239e-01</td>\n",
       "      <td>1.027196e+00</td>\n",
       "      <td>7.433413e-01</td>\n",
       "      <td>6.119264e-01</td>\n",
       "      <td>3.985649e-01</td>\n",
       "      <td>5.704361e-01</td>\n",
       "      <td>3.273459e-01</td>\n",
       "      <td>5.971390e-01</td>\n",
       "      <td>...</td>\n",
       "      <td>1.863772e-01</td>\n",
       "      <td>5.285536e-01</td>\n",
       "      <td>1.476421e-01</td>\n",
       "      <td>4.395266e-01</td>\n",
       "      <td>3.507156e-01</td>\n",
       "      <td>2.409522e-01</td>\n",
       "      <td>9.104512e-02</td>\n",
       "      <td>7.827995e-02</td>\n",
       "      <td>77.165000</td>\n",
       "      <td>0.000000</td>\n",
       "    </tr>\n",
       "    <tr>\n",
       "      <th>max</th>\n",
       "      <td>172792.000000</td>\n",
       "      <td>2.454930e+00</td>\n",
       "      <td>2.205773e+01</td>\n",
       "      <td>9.382558e+00</td>\n",
       "      <td>1.687534e+01</td>\n",
       "      <td>3.480167e+01</td>\n",
       "      <td>7.330163e+01</td>\n",
       "      <td>1.205895e+02</td>\n",
       "      <td>2.000721e+01</td>\n",
       "      <td>1.559499e+01</td>\n",
       "      <td>...</td>\n",
       "      <td>2.720284e+01</td>\n",
       "      <td>1.050309e+01</td>\n",
       "      <td>2.252841e+01</td>\n",
       "      <td>4.584549e+00</td>\n",
       "      <td>7.519589e+00</td>\n",
       "      <td>3.517346e+00</td>\n",
       "      <td>3.161220e+01</td>\n",
       "      <td>3.384781e+01</td>\n",
       "      <td>25691.160000</td>\n",
       "      <td>1.000000</td>\n",
       "    </tr>\n",
       "  </tbody>\n",
       "</table>\n",
       "<p>8 rows × 31 columns</p>\n",
       "</div>"
      ],
      "text/plain": [
       "                Time            V1            V2            V3            V4  \\\n",
       "count  284807.000000  2.848070e+05  2.848070e+05  2.848070e+05  2.848070e+05   \n",
       "mean    94813.859575  1.168375e-15  3.416908e-16 -1.379537e-15  2.074095e-15   \n",
       "std     47488.145955  1.958696e+00  1.651309e+00  1.516255e+00  1.415869e+00   \n",
       "min         0.000000 -5.640751e+01 -7.271573e+01 -4.832559e+01 -5.683171e+00   \n",
       "25%     54201.500000 -9.203734e-01 -5.985499e-01 -8.903648e-01 -8.486401e-01   \n",
       "50%     84692.000000  1.810880e-02  6.548556e-02  1.798463e-01 -1.984653e-02   \n",
       "75%    139320.500000  1.315642e+00  8.037239e-01  1.027196e+00  7.433413e-01   \n",
       "max    172792.000000  2.454930e+00  2.205773e+01  9.382558e+00  1.687534e+01   \n",
       "\n",
       "                 V5            V6            V7            V8            V9  \\\n",
       "count  2.848070e+05  2.848070e+05  2.848070e+05  2.848070e+05  2.848070e+05   \n",
       "mean   9.604066e-16  1.487313e-15 -5.556467e-16  1.213481e-16 -2.406331e-15   \n",
       "std    1.380247e+00  1.332271e+00  1.237094e+00  1.194353e+00  1.098632e+00   \n",
       "min   -1.137433e+02 -2.616051e+01 -4.355724e+01 -7.321672e+01 -1.343407e+01   \n",
       "25%   -6.915971e-01 -7.682956e-01 -5.540759e-01 -2.086297e-01 -6.430976e-01   \n",
       "50%   -5.433583e-02 -2.741871e-01  4.010308e-02  2.235804e-02 -5.142873e-02   \n",
       "75%    6.119264e-01  3.985649e-01  5.704361e-01  3.273459e-01  5.971390e-01   \n",
       "max    3.480167e+01  7.330163e+01  1.205895e+02  2.000721e+01  1.559499e+01   \n",
       "\n",
       "       ...           V21           V22           V23           V24  \\\n",
       "count  ...  2.848070e+05  2.848070e+05  2.848070e+05  2.848070e+05   \n",
       "mean   ...  1.654067e-16 -3.568593e-16  2.578648e-16  4.473266e-15   \n",
       "std    ...  7.345240e-01  7.257016e-01  6.244603e-01  6.056471e-01   \n",
       "min    ... -3.483038e+01 -1.093314e+01 -4.480774e+01 -2.836627e+00   \n",
       "25%    ... -2.283949e-01 -5.423504e-01 -1.618463e-01 -3.545861e-01   \n",
       "50%    ... -2.945017e-02  6.781943e-03 -1.119293e-02  4.097606e-02   \n",
       "75%    ...  1.863772e-01  5.285536e-01  1.476421e-01  4.395266e-01   \n",
       "max    ...  2.720284e+01  1.050309e+01  2.252841e+01  4.584549e+00   \n",
       "\n",
       "                V25           V26           V27           V28         Amount  \\\n",
       "count  2.848070e+05  2.848070e+05  2.848070e+05  2.848070e+05  284807.000000   \n",
       "mean   5.340915e-16  1.683437e-15 -3.660091e-16 -1.227390e-16      88.349619   \n",
       "std    5.212781e-01  4.822270e-01  4.036325e-01  3.300833e-01     250.120109   \n",
       "min   -1.029540e+01 -2.604551e+00 -2.256568e+01 -1.543008e+01       0.000000   \n",
       "25%   -3.171451e-01 -3.269839e-01 -7.083953e-02 -5.295979e-02       5.600000   \n",
       "50%    1.659350e-02 -5.213911e-02  1.342146e-03  1.124383e-02      22.000000   \n",
       "75%    3.507156e-01  2.409522e-01  9.104512e-02  7.827995e-02      77.165000   \n",
       "max    7.519589e+00  3.517346e+00  3.161220e+01  3.384781e+01   25691.160000   \n",
       "\n",
       "               Class  \n",
       "count  284807.000000  \n",
       "mean        0.001727  \n",
       "std         0.041527  \n",
       "min         0.000000  \n",
       "25%         0.000000  \n",
       "50%         0.000000  \n",
       "75%         0.000000  \n",
       "max         1.000000  \n",
       "\n",
       "[8 rows x 31 columns]"
      ]
     },
     "execution_count": 5,
     "metadata": {},
     "output_type": "execute_result"
    }
   ],
   "source": [
    "df.describe()"
   ]
  },
  {
   "cell_type": "code",
   "execution_count": 6,
   "metadata": {
    "execution": {
     "iopub.execute_input": "2023-08-15T12:05:59.151101Z",
     "iopub.status.busy": "2023-08-15T12:05:59.150782Z",
     "iopub.status.idle": "2023-08-15T12:05:59.168398Z",
     "shell.execute_reply": "2023-08-15T12:05:59.167318Z",
     "shell.execute_reply.started": "2023-08-15T12:05:59.151071Z"
    }
   },
   "outputs": [
    {
     "data": {
      "text/plain": [
       "Time      0\n",
       "V1        0\n",
       "V2        0\n",
       "V3        0\n",
       "V4        0\n",
       "V5        0\n",
       "V6        0\n",
       "V7        0\n",
       "V8        0\n",
       "V9        0\n",
       "V10       0\n",
       "V11       0\n",
       "V12       0\n",
       "V13       0\n",
       "V14       0\n",
       "V15       0\n",
       "V16       0\n",
       "V17       0\n",
       "V18       0\n",
       "V19       0\n",
       "V20       0\n",
       "V21       0\n",
       "V22       0\n",
       "V23       0\n",
       "V24       0\n",
       "V25       0\n",
       "V26       0\n",
       "V27       0\n",
       "V28       0\n",
       "Amount    0\n",
       "Class     0\n",
       "dtype: int64"
      ]
     },
     "execution_count": 6,
     "metadata": {},
     "output_type": "execute_result"
    }
   ],
   "source": [
    "df.isnull().sum()"
   ]
  },
  {
   "cell_type": "markdown",
   "metadata": {},
   "source": [
    "### REMOVING UNNECESSARY FACTORS"
   ]
  },
  {
   "cell_type": "code",
   "execution_count": 7,
   "metadata": {
    "execution": {
     "iopub.execute_input": "2023-08-15T12:05:59.170849Z",
     "iopub.status.busy": "2023-08-15T12:05:59.170396Z",
     "iopub.status.idle": "2023-08-15T12:05:59.949877Z",
     "shell.execute_reply": "2023-08-15T12:05:59.948611Z",
     "shell.execute_reply.started": "2023-08-15T12:05:59.170812Z"
    }
   },
   "outputs": [
    {
     "data": {
      "text/plain": [
       "1081"
      ]
     },
     "execution_count": 7,
     "metadata": {},
     "output_type": "execute_result"
    }
   ],
   "source": [
    "df.duplicated().sum()"
   ]
  },
  {
   "cell_type": "code",
   "execution_count": 8,
   "metadata": {
    "execution": {
     "iopub.execute_input": "2023-08-15T12:05:59.952940Z",
     "iopub.status.busy": "2023-08-15T12:05:59.952524Z",
     "iopub.status.idle": "2023-08-15T12:06:00.732004Z",
     "shell.execute_reply": "2023-08-15T12:06:00.730879Z",
     "shell.execute_reply.started": "2023-08-15T12:05:59.952904Z"
    }
   },
   "outputs": [],
   "source": [
    "df.drop_duplicates(inplace=True)"
   ]
  },
  {
   "cell_type": "markdown",
   "metadata": {},
   "source": [
    "### EXPLORATORY DATA ANALYSIS"
   ]
  },
  {
   "cell_type": "code",
   "execution_count": 9,
   "metadata": {
    "execution": {
     "iopub.execute_input": "2023-08-15T12:06:00.733541Z",
     "iopub.status.busy": "2023-08-15T12:06:00.733257Z",
     "iopub.status.idle": "2023-08-15T12:06:00.974901Z",
     "shell.execute_reply": "2023-08-15T12:06:00.973010Z",
     "shell.execute_reply.started": "2023-08-15T12:06:00.733515Z"
    }
   },
   "outputs": [
    {
     "data": {
      "text/plain": [
       "<Axes: xlabel='Class', ylabel='Time'>"
      ]
     },
     "execution_count": 9,
     "metadata": {},
     "output_type": "execute_result"
    },
    {
     "data": {
      "image/png": "[encoded data removed]",
      "text/plain": [
       "<Figure size 640x480 with 1 Axes>"
      ]
     },
     "metadata": {},
     "output_type": "display_data"
    }
   ],
   "source": [
    "sns.boxplot(x='Class',y='Time',data=df)"
   ]
  },
  {
   "cell_type": "markdown",
   "metadata": {},
   "source": [
    "### HEAVILY BIASED DATASET"
   ]
  },
  {
   "cell_type": "code",
   "execution_count": 10,
   "metadata": {
    "execution": {
     "iopub.execute_input": "2023-08-15T12:06:00.978595Z",
     "iopub.status.busy": "2023-08-15T12:06:00.978265Z",
     "iopub.status.idle": "2023-08-15T12:06:01.095413Z",
     "shell.execute_reply": "2023-08-15T12:06:01.094342Z",
     "shell.execute_reply.started": "2023-08-15T12:06:00.978571Z"
    }
   },
   "outputs": [
    {
     "data": {
      "image/png": "[encoded data removed]",
      "text/plain": [
       "<Figure size 640x480 with 1 Axes>"
      ]
     },
     "metadata": {},
     "output_type": "display_data"
    }
   ],
   "source": [
    "plt.pie(x=df['Class'].value_counts(),labels=['Not Fraud','Fraud'],autopct=\"%0.1f%%\")\n",
    "plt.show()"
   ]
  },
  {
   "cell_type": "code",
   "execution_count": 11,
   "metadata": {
    "execution": {
     "iopub.execute_input": "2023-08-15T12:06:01.098314Z",
     "iopub.status.busy": "2023-08-15T12:06:01.097991Z",
     "iopub.status.idle": "2023-08-15T12:06:01.108315Z",
     "shell.execute_reply": "2023-08-15T12:06:01.107302Z",
     "shell.execute_reply.started": "2023-08-15T12:06:01.098288Z"
    }
   },
   "outputs": [],
   "source": [
    "def plot_correlations(df):\n",
    "    df=df[[col for col in df if df[col].nunique()>1]]\n",
    "    plt.figure(num=None, figsize=(8, 8), dpi=80, facecolor='w', edgecolor='k')\n",
    "    corr=df.corr()\n",
    "    corrMat = plt.matshow(corr, fignum = 1)\n",
    "    plt.xticks(range(len(corr.columns)), corr.columns, rotation=90)\n",
    "    plt.yticks(range(len(corr.columns)), corr.columns)\n",
    "    plt.gca().xaxis.tick_bottom()\n",
    "    plt.colorbar(corrMat)\n",
    "    plt.title('Correlation Matrix')\n",
    "    plt.show()"
   ]
  },
  {
   "cell_type": "code",
   "execution_count": 12,
   "metadata": {
    "execution": {
     "iopub.execute_input": "2023-08-15T12:06:01.109813Z",
     "iopub.status.busy": "2023-08-15T12:06:01.109548Z",
     "iopub.status.idle": "2023-08-15T12:06:02.464005Z",
     "shell.execute_reply": "2023-08-15T12:06:02.462745Z",
     "shell.execute_reply.started": "2023-08-15T12:06:01.109787Z"
    }
   },
   "outputs": [
    {
     "data": {
      "image/png": "[encoded data removed]",
      "text/plain": [
       "<Figure size 640x640 with 2 Axes>"
      ]
     },
     "metadata": {},
     "output_type": "display_data"
    }
   ],
   "source": [
    "plot_correlations(df)"
   ]
  },
  {
   "cell_type": "code",
   "execution_count": 13,
   "metadata": {
    "execution": {
     "iopub.execute_input": "2023-08-15T12:06:02.466840Z",
     "iopub.status.busy": "2023-08-15T12:06:02.466396Z",
     "iopub.status.idle": "2023-08-15T12:06:02.476357Z",
     "shell.execute_reply": "2023-08-15T12:06:02.475100Z",
     "shell.execute_reply.started": "2023-08-15T12:06:02.466810Z"
    }
   },
   "outputs": [],
   "source": [
    "\n",
    "def plot_distributions(df, nGraphShown, nGraphPerRow):\n",
    "    nunique = df.nunique()\n",
    "    df = df[[col for col in df if 1 < nunique[col] < 50]]\n",
    "    nRow, nCol = df.shape\n",
    "    columnNames = list(df)\n",
    "    nGraphRow = int((nCol + nGraphPerRow - 1) / nGraphPerRow)  \n",
    "    plt.figure(num=None, figsize=(6 * nGraphPerRow, 8 * nGraphRow), dpi=80, facecolor='w', edgecolor='k')\n",
    "    \n",
    "    for i in range(min(nCol, nGraphShown)):\n",
    "        plt.subplot(nGraphRow, nGraphPerRow, i + 1)\n",
    "        columnDf = df.iloc[:, i]\n",
    "        \n",
    "        if not np.issubdtype(type(columnDf.iloc[0]), np.number):\n",
    "            valueCounts = columnDf.value_counts()\n",
    "            valueCounts.plot.bar()\n",
    "        else:\n",
    "            columnDf.hist()\n",
    "        \n",
    "        plt.ylabel('counts')\n",
    "        plt.xticks(rotation=90)\n",
    "        plt.title(f'{columnNames[i]} (column {i})')\n",
    "    \n",
    "    plt.tight_layout(pad=1.0, w_pad=1.0, h_pad=1.0)\n",
    "    plt.show()\n"
   ]
  },
  {
   "cell_type": "code",
   "execution_count": 14,
   "metadata": {
    "execution": {
     "iopub.execute_input": "2023-08-15T12:06:02.478155Z",
     "iopub.status.busy": "2023-08-15T12:06:02.477865Z",
     "iopub.status.idle": "2023-08-15T12:06:03.121541Z",
     "shell.execute_reply": "2023-08-15T12:06:03.120342Z",
     "shell.execute_reply.started": "2023-08-15T12:06:02.478132Z"
    }
   },
   "outputs": [
    {
     "data": {
      "image/png": "[encoded data removed]",
      "text/plain": [
       "<Figure size 2400x640 with 1 Axes>"
      ]
     },
     "metadata": {},
     "output_type": "display_data"
    }
   ],
   "source": [
    "plot_distributions(df,10,5)"
   ]
  },
  {
   "cell_type": "markdown",
   "metadata": {},
   "source": [
    "### SPLITTING THE FEATURES FROM DATASET"
   ]
  },
  {
   "cell_type": "code",
   "execution_count": 15,
   "metadata": {
    "execution": {
     "iopub.execute_input": "2023-08-15T12:06:03.123533Z",
     "iopub.status.busy": "2023-08-15T12:06:03.123138Z",
     "iopub.status.idle": "2023-08-15T12:06:03.142153Z",
     "shell.execute_reply": "2023-08-15T12:06:03.140319Z",
     "shell.execute_reply.started": "2023-08-15T12:06:03.123502Z"
    }
   },
   "outputs": [],
   "source": [
    "x=df.drop(['Class','Time'],axis=1)\n",
    "y=df['Class']"
   ]
  },
  {
   "cell_type": "markdown",
   "metadata": {},
   "source": [
    "### CONVERTING TRAINING AND TESTING DATASETS"
   ]
  },
  {
   "cell_type": "code",
   "execution_count": 16,
   "metadata": {
    "execution": {
     "iopub.execute_input": "2023-08-15T12:06:03.144069Z",
     "iopub.status.busy": "2023-08-15T12:06:03.143639Z",
     "iopub.status.idle": "2023-08-15T12:06:03.412623Z",
     "shell.execute_reply": "2023-08-15T12:06:03.411489Z",
     "shell.execute_reply.started": "2023-08-15T12:06:03.144042Z"
    }
   },
   "outputs": [],
   "source": [
    "from sklearn.model_selection import train_test_split\n",
    "x_train,x_test,y_train,y_test=train_test_split(x,y,random_state=42,test_size=0.03)"
   ]
  },
  {
   "cell_type": "code",
   "execution_count": 17,
   "metadata": {
    "execution": {
     "iopub.execute_input": "2023-08-15T12:06:03.414102Z",
     "iopub.status.busy": "2023-08-15T12:06:03.413774Z",
     "iopub.status.idle": "2023-08-15T12:06:03.421482Z",
     "shell.execute_reply": "2023-08-15T12:06:03.420239Z",
     "shell.execute_reply.started": "2023-08-15T12:06:03.414071Z"
    }
   },
   "outputs": [
    {
     "data": {
      "text/plain": [
       "((275214, 29), (8512, 29))"
      ]
     },
     "execution_count": 17,
     "metadata": {},
     "output_type": "execute_result"
    }
   ],
   "source": [
    "x_train.shape,x_test.shape"
   ]
  },
  {
   "cell_type": "markdown",
   "metadata": {},
   "source": [
    "### IMPORTING ALGORITHMS "
   ]
  },
  {
   "cell_type": "code",
   "execution_count": 18,
   "metadata": {
    "execution": {
     "iopub.execute_input": "2023-08-15T12:06:03.423116Z",
     "iopub.status.busy": "2023-08-15T12:06:03.422784Z",
     "iopub.status.idle": "2023-08-15T12:06:04.036417Z",
     "shell.execute_reply": "2023-08-15T12:06:04.035107Z",
     "shell.execute_reply.started": "2023-08-15T12:06:03.423077Z"
    }
   },
   "outputs": [],
   "source": [
    "from sklearn.naive_bayes import MultinomialNB,GaussianNB,BernoulliNB\n",
    "from sklearn.linear_model import LogisticRegression\n",
    "from sklearn.tree import DecisionTreeClassifier\n",
    "from sklearn.neighbors import KNeighborsClassifier\n",
    "from sklearn.ensemble import RandomForestClassifier\n",
    "from sklearn.ensemble import BaggingClassifier\n",
    "from sklearn.ensemble import AdaBoostClassifier\n",
    "from sklearn.svm import SVC\n",
    "from xgboost import XGBClassifier\n",
    "from sklearn.ensemble import ExtraTreesClassifier"
   ]
  },
  {
   "cell_type": "code",
   "execution_count": 19,
   "metadata": {
    "execution": {
     "iopub.execute_input": "2023-08-15T12:06:04.038878Z",
     "iopub.status.busy": "2023-08-15T12:06:04.038494Z",
     "iopub.status.idle": "2023-08-15T12:06:04.045007Z",
     "shell.execute_reply": "2023-08-15T12:06:04.043390Z",
     "shell.execute_reply.started": "2023-08-15T12:06:04.038847Z"
    }
   },
   "outputs": [],
   "source": [
    "svc = SVC(kernel='sigmoid', gamma=1.0)\n",
    "lr = LogisticRegression(solver='liblinear', penalty='l1')\n",
    "rfc = RandomForestClassifier(n_estimators=50, random_state=2)\n",
    "xgb = XGBClassifier(n_estimators=50,random_state=2)\n",
    "bc = BaggingClassifier(n_estimators=50, random_state=2)"
   ]
  },
  {
   "cell_type": "code",
   "execution_count": 20,
   "metadata": {
    "execution": {
     "iopub.execute_input": "2023-08-15T12:06:04.046637Z",
     "iopub.status.busy": "2023-08-15T12:06:04.046330Z",
     "iopub.status.idle": "2023-08-15T12:06:04.061595Z",
     "shell.execute_reply": "2023-08-15T12:06:04.060534Z",
     "shell.execute_reply.started": "2023-08-15T12:06:04.046613Z"
    }
   },
   "outputs": [],
   "source": [
    "algos={\n",
    "    'SVC':svc,\n",
    "    'LR':lr,\n",
    "    'RFC':rfc,\n",
    "    'XGB':xgb,\n",
    "    'BC':bc,\n",
    "}"
   ]
  },
  {
   "cell_type": "code",
   "execution_count": 23,
   "metadata": {
    "execution": {
     "iopub.execute_input": "2023-08-15T12:08:54.200338Z",
     "iopub.status.busy": "2023-08-15T12:08:54.199895Z",
     "iopub.status.idle": "2023-08-15T12:08:54.206133Z",
     "shell.execute_reply": "2023-08-15T12:08:54.204476Z",
     "shell.execute_reply.started": "2023-08-15T12:08:54.200299Z"
    }
   },
   "outputs": [],
   "source": [
    "from sklearn.metrics import accuracy_score,confusion_matrix,precision_score"
   ]
  },
  {
   "cell_type": "code",
   "execution_count": 24,
   "metadata": {
    "execution": {
     "iopub.execute_input": "2023-08-15T12:08:58.725541Z",
     "iopub.status.busy": "2023-08-15T12:08:58.725192Z",
     "iopub.status.idle": "2023-08-15T12:28:37.304073Z",
     "shell.execute_reply": "2023-08-15T12:28:37.302629Z",
     "shell.execute_reply.started": "2023-08-15T12:08:58.725514Z"
    }
   },
   "outputs": [],
   "source": [
    "pre_acc = {}\n",
    "for name,algo in algos.items():\n",
    "    algo.fit(x_train, y_train)\n",
    "    y_pred = algo.predict(x_test)\n",
    "    pre_acc[name] = {\n",
    "        'Precision': precision_score(y_test, y_pred),\n",
    "        'Accuracy': accuracy_score(y_test, y_pred),\n",
    "        'Confusion Matrix': confusion_matrix(y_test, y_pred),\n",
    "    }"
   ]
  },
  {
   "cell_type": "markdown",
   "metadata": {},
   "source": [
    "### CHECKING ACCURACY FOR ALORITHM"
   ]
  },
  {
   "cell_type": "code",
   "execution_count": 25,
   "metadata": {
    "execution": {
     "iopub.execute_input": "2023-08-15T12:30:14.953220Z",
     "iopub.status.busy": "2023-08-15T12:30:14.952863Z",
     "iopub.status.idle": "2023-08-15T12:30:14.961539Z",
     "shell.execute_reply": "2023-08-15T12:30:14.959941Z",
     "shell.execute_reply.started": "2023-08-15T12:30:14.953192Z"
    }
   },
   "outputs": [
    {
     "data": {
      "text/plain": [
       "{'SVC': {'Precision': 0.045454545454545456,\n",
       "  'Accuracy': 0.9958881578947368,\n",
       "  'Confusion Matrix': array([[8476,   21],\n",
       "         [  14,    1]])},\n",
       " 'LR': {'Precision': 0.8888888888888888,\n",
       "  'Accuracy': 0.9990601503759399,\n",
       "  'Confusion Matrix': array([[8496,    1],\n",
       "         [   7,    8]])},\n",
       " 'RFC': {'Precision': 0.9230769230769231,\n",
       "  'Accuracy': 0.9995300751879699,\n",
       "  'Confusion Matrix': array([[8496,    1],\n",
       "         [   3,   12]])},\n",
       " 'XGB': {'Precision': 0.9230769230769231,\n",
       "  'Accuracy': 0.9995300751879699,\n",
       "  'Confusion Matrix': array([[8496,    1],\n",
       "         [   3,   12]])},\n",
       " 'BC': {'Precision': 0.9230769230769231,\n",
       "  'Accuracy': 0.9995300751879699,\n",
       "  'Confusion Matrix': array([[8496,    1],\n",
       "         [   3,   12]])}}"
      ]
     },
     "execution_count": 25,
     "metadata": {},
     "output_type": "execute_result"
    }
   ],
   "source": [
    "pre_acc"
   ]
  },
  {
   "cell_type": "markdown",
   "metadata": {},
   "source": [
    "### BALANCING IMBALANCED DATASETS"
   ]
  },
  {
   "cell_type": "code",
   "execution_count": 28,
   "metadata": {
    "execution": {
     "iopub.execute_input": "2023-08-15T12:31:42.450081Z",
     "iopub.status.busy": "2023-08-15T12:31:42.449725Z",
     "iopub.status.idle": "2023-08-15T12:31:42.512359Z",
     "shell.execute_reply": "2023-08-15T12:31:42.510708Z",
     "shell.execute_reply.started": "2023-08-15T12:31:42.450053Z"
    }
   },
   "outputs": [],
   "source": [
    "from sklearn.utils import resample\n",
    "\n",
    "\n",
    "fraud_df = df[df['Class'] == 1]\n",
    "non_fraud_df = df[df['Class'] == 0]\n",
    "\n",
    "\n",
    "non_fraud_downsampled = resample(non_fraud_df,\n",
    "                                 replace=False,  \n",
    "                                 n_samples=len(fraud_df),\n",
    "                                 random_state=42)  \n",
    "\n",
    "new_df = pd.concat([non_fraud_downsampled, fraud_df])\n",
    "\n",
    "new_df = new_df.sample(frac=1, random_state=42)"
   ]
  },
  {
   "cell_type": "code",
   "execution_count": 29,
   "metadata": {
    "execution": {
     "iopub.execute_input": "2023-08-15T12:31:50.542830Z",
     "iopub.status.busy": "2023-08-15T12:31:50.542381Z",
     "iopub.status.idle": "2023-08-15T12:31:50.574290Z",
     "shell.execute_reply": "2023-08-15T12:31:50.572993Z",
     "shell.execute_reply.started": "2023-08-15T12:31:50.542794Z"
    }
   },
   "outputs": [
    {
     "data": {
      "text/html": [
       "<div>\n",
       "<style scoped>\n",
       "    .dataframe tbody tr th:only-of-type {\n",
       "        vertical-align: middle;\n",
       "    }\n",
       "\n",
       "    .dataframe tbody tr th {\n",
       "        vertical-align: top;\n",
       "    }\n",
       "\n",
       "    .dataframe thead th {\n",
       "        text-align: right;\n",
       "    }\n",
       "</style>\n",
       "<table border=\"1\" class=\"dataframe\">\n",
       "  <thead>\n",
       "    <tr style=\"text-align: right;\">\n",
       "      <th></th>\n",
       "      <th>Time</th>\n",
       "      <th>V1</th>\n",
       "      <th>V2</th>\n",
       "      <th>V3</th>\n",
       "      <th>V4</th>\n",
       "      <th>V5</th>\n",
       "      <th>V6</th>\n",
       "      <th>V7</th>\n",
       "      <th>V8</th>\n",
       "      <th>V9</th>\n",
       "      <th>...</th>\n",
       "      <th>V21</th>\n",
       "      <th>V22</th>\n",
       "      <th>V23</th>\n",
       "      <th>V24</th>\n",
       "      <th>V25</th>\n",
       "      <th>V26</th>\n",
       "      <th>V27</th>\n",
       "      <th>V28</th>\n",
       "      <th>Amount</th>\n",
       "      <th>Class</th>\n",
       "    </tr>\n",
       "  </thead>\n",
       "  <tbody>\n",
       "    <tr>\n",
       "      <th>126265</th>\n",
       "      <td>77970.0</td>\n",
       "      <td>1.222435</td>\n",
       "      <td>-0.482973</td>\n",
       "      <td>1.006126</td>\n",
       "      <td>-0.629278</td>\n",
       "      <td>-1.545401</td>\n",
       "      <td>-1.058787</td>\n",
       "      <td>-0.699653</td>\n",
       "      <td>0.058106</td>\n",
       "      <td>2.098220</td>\n",
       "      <td>...</td>\n",
       "      <td>-0.013621</td>\n",
       "      <td>0.112532</td>\n",
       "      <td>0.028354</td>\n",
       "      <td>0.681553</td>\n",
       "      <td>0.389823</td>\n",
       "      <td>-0.700175</td>\n",
       "      <td>0.081159</td>\n",
       "      <td>0.034358</td>\n",
       "      <td>1.00</td>\n",
       "      <td>0</td>\n",
       "    </tr>\n",
       "    <tr>\n",
       "      <th>125569</th>\n",
       "      <td>77720.0</td>\n",
       "      <td>1.372852</td>\n",
       "      <td>-0.600069</td>\n",
       "      <td>-1.982242</td>\n",
       "      <td>-1.652596</td>\n",
       "      <td>1.875989</td>\n",
       "      <td>2.850328</td>\n",
       "      <td>-0.650839</td>\n",
       "      <td>0.633996</td>\n",
       "      <td>-1.195478</td>\n",
       "      <td>...</td>\n",
       "      <td>0.085969</td>\n",
       "      <td>-0.090311</td>\n",
       "      <td>-0.211467</td>\n",
       "      <td>0.957720</td>\n",
       "      <td>0.811915</td>\n",
       "      <td>-0.137130</td>\n",
       "      <td>-0.013380</td>\n",
       "      <td>0.031342</td>\n",
       "      <td>69.79</td>\n",
       "      <td>0</td>\n",
       "    </tr>\n",
       "    <tr>\n",
       "      <th>182992</th>\n",
       "      <td>125612.0</td>\n",
       "      <td>1.889618</td>\n",
       "      <td>1.073099</td>\n",
       "      <td>-1.678018</td>\n",
       "      <td>4.173268</td>\n",
       "      <td>1.015516</td>\n",
       "      <td>-0.009389</td>\n",
       "      <td>-0.079706</td>\n",
       "      <td>0.064071</td>\n",
       "      <td>-0.714517</td>\n",
       "      <td>...</td>\n",
       "      <td>0.203728</td>\n",
       "      <td>0.733796</td>\n",
       "      <td>-0.036560</td>\n",
       "      <td>0.334306</td>\n",
       "      <td>0.147171</td>\n",
       "      <td>0.279556</td>\n",
       "      <td>0.031669</td>\n",
       "      <td>0.035883</td>\n",
       "      <td>3.22</td>\n",
       "      <td>1</td>\n",
       "    </tr>\n",
       "    <tr>\n",
       "      <th>271257</th>\n",
       "      <td>164489.0</td>\n",
       "      <td>0.039062</td>\n",
       "      <td>0.889239</td>\n",
       "      <td>0.302199</td>\n",
       "      <td>-0.585161</td>\n",
       "      <td>0.431838</td>\n",
       "      <td>-1.116524</td>\n",
       "      <td>1.050711</td>\n",
       "      <td>-0.232965</td>\n",
       "      <td>-0.109813</td>\n",
       "      <td>...</td>\n",
       "      <td>-0.253421</td>\n",
       "      <td>-0.535450</td>\n",
       "      <td>0.072419</td>\n",
       "      <td>0.050588</td>\n",
       "      <td>-0.475029</td>\n",
       "      <td>0.136236</td>\n",
       "      <td>0.248946</td>\n",
       "      <td>0.098623</td>\n",
       "      <td>5.99</td>\n",
       "      <td>0</td>\n",
       "    </tr>\n",
       "    <tr>\n",
       "      <th>230281</th>\n",
       "      <td>146267.0</td>\n",
       "      <td>-0.629286</td>\n",
       "      <td>1.379787</td>\n",
       "      <td>-0.297018</td>\n",
       "      <td>-1.393297</td>\n",
       "      <td>1.489655</td>\n",
       "      <td>-0.885139</td>\n",
       "      <td>1.872444</td>\n",
       "      <td>-0.523914</td>\n",
       "      <td>-0.590964</td>\n",
       "      <td>...</td>\n",
       "      <td>0.158709</td>\n",
       "      <td>0.782369</td>\n",
       "      <td>-0.492603</td>\n",
       "      <td>0.834802</td>\n",
       "      <td>0.546616</td>\n",
       "      <td>0.155325</td>\n",
       "      <td>0.091849</td>\n",
       "      <td>0.002683</td>\n",
       "      <td>7.57</td>\n",
       "      <td>0</td>\n",
       "    </tr>\n",
       "  </tbody>\n",
       "</table>\n",
       "<p>5 rows × 31 columns</p>\n",
       "</div>"
      ],
      "text/plain": [
       "            Time        V1        V2        V3        V4        V5        V6  \\\n",
       "126265   77970.0  1.222435 -0.482973  1.006126 -0.629278 -1.545401 -1.058787   \n",
       "125569   77720.0  1.372852 -0.600069 -1.982242 -1.652596  1.875989  2.850328   \n",
       "182992  125612.0  1.889618  1.073099 -1.678018  4.173268  1.015516 -0.009389   \n",
       "271257  164489.0  0.039062  0.889239  0.302199 -0.585161  0.431838 -1.116524   \n",
       "230281  146267.0 -0.629286  1.379787 -0.297018 -1.393297  1.489655 -0.885139   \n",
       "\n",
       "              V7        V8        V9  ...       V21       V22       V23  \\\n",
       "126265 -0.699653  0.058106  2.098220  ... -0.013621  0.112532  0.028354   \n",
       "125569 -0.650839  0.633996 -1.195478  ...  0.085969 -0.090311 -0.211467   \n",
       "182992 -0.079706  0.064071 -0.714517  ...  0.203728  0.733796 -0.036560   \n",
       "271257  1.050711 -0.232965 -0.109813  ... -0.253421 -0.535450  0.072419   \n",
       "230281  1.872444 -0.523914 -0.590964  ...  0.158709  0.782369 -0.492603   \n",
       "\n",
       "             V24       V25       V26       V27       V28  Amount  Class  \n",
       "126265  0.681553  0.389823 -0.700175  0.081159  0.034358    1.00      0  \n",
       "125569  0.957720  0.811915 -0.137130 -0.013380  0.031342   69.79      0  \n",
       "182992  0.334306  0.147171  0.279556  0.031669  0.035883    3.22      1  \n",
       "271257  0.050588 -0.475029  0.136236  0.248946  0.098623    5.99      0  \n",
       "230281  0.834802  0.546616  0.155325  0.091849  0.002683    7.57      0  \n",
       "\n",
       "[5 rows x 31 columns]"
      ]
     },
     "execution_count": 29,
     "metadata": {},
     "output_type": "execute_result"
    }
   ],
   "source": [
    "new_df.head()"
   ]
  },
  {
   "cell_type": "code",
   "execution_count": 36,
   "metadata": {
    "execution": {
     "iopub.execute_input": "2023-08-15T12:38:13.188825Z",
     "iopub.status.busy": "2023-08-15T12:38:13.188451Z",
     "iopub.status.idle": "2023-08-15T12:38:13.196878Z",
     "shell.execute_reply": "2023-08-15T12:38:13.195458Z",
     "shell.execute_reply.started": "2023-08-15T12:38:13.188800Z"
    }
   },
   "outputs": [
    {
     "data": {
      "text/plain": [
       "(946, 31)"
      ]
     },
     "execution_count": 36,
     "metadata": {},
     "output_type": "execute_result"
    }
   ],
   "source": [
    "new_df.shape"
   ]
  },
  {
   "cell_type": "code",
   "execution_count": 32,
   "metadata": {
    "execution": {
     "iopub.execute_input": "2023-08-15T12:35:14.620389Z",
     "iopub.status.busy": "2023-08-15T12:35:14.620028Z",
     "iopub.status.idle": "2023-08-15T12:35:14.705800Z",
     "shell.execute_reply": "2023-08-15T12:35:14.704885Z",
     "shell.execute_reply.started": "2023-08-15T12:35:14.620360Z"
    }
   },
   "outputs": [
    {
     "data": {
      "image/png": "[encoded data removed]",
      "text/plain": [
       "<Figure size 640x480 with 1 Axes>"
      ]
     },
     "metadata": {},
     "output_type": "display_data"
    }
   ],
   "source": [
    "plt.pie(new_df['Class'].value_counts(),labels=['Non Fraud','Fraud'],autopct='%0.1f%%')\n",
    "plt.show()"
   ]
  },
  {
   "cell_type": "code",
   "execution_count": 37,
   "metadata": {
    "execution": {
     "iopub.execute_input": "2023-08-15T12:38:27.971835Z",
     "iopub.status.busy": "2023-08-15T12:38:27.971494Z",
     "iopub.status.idle": "2023-08-15T12:38:27.980040Z",
     "shell.execute_reply": "2023-08-15T12:38:27.978210Z",
     "shell.execute_reply.started": "2023-08-15T12:38:27.971811Z"
    }
   },
   "outputs": [],
   "source": [
    "x_new=new_df.drop(['Time','Class'],axis=1)\n",
    "y_new=new_df['Class']\n",
    "x_train_new,x_test_new,y_train_new,y_test_new=train_test_split(x_new,y_new,random_state=42,test_size=0.1)"
   ]
  },
  {
   "cell_type": "code",
   "execution_count": 38,
   "metadata": {
    "execution": {
     "iopub.execute_input": "2023-08-15T12:38:31.512822Z",
     "iopub.status.busy": "2023-08-15T12:38:31.512457Z",
     "iopub.status.idle": "2023-08-15T12:38:31.520520Z",
     "shell.execute_reply": "2023-08-15T12:38:31.519225Z",
     "shell.execute_reply.started": "2023-08-15T12:38:31.512793Z"
    }
   },
   "outputs": [
    {
     "data": {
      "text/plain": [
       "((851, 29), (95, 29))"
      ]
     },
     "execution_count": 38,
     "metadata": {},
     "output_type": "execute_result"
    }
   ],
   "source": [
    "x_train_new.shape,x_test_new.shape"
   ]
  },
  {
   "cell_type": "code",
   "execution_count": 39,
   "metadata": {
    "execution": {
     "iopub.execute_input": "2023-08-15T12:38:52.726016Z",
     "iopub.status.busy": "2023-08-15T12:38:52.725655Z",
     "iopub.status.idle": "2023-08-15T12:38:53.652119Z",
     "shell.execute_reply": "2023-08-15T12:38:53.650727Z",
     "shell.execute_reply.started": "2023-08-15T12:38:52.725990Z"
    }
   },
   "outputs": [],
   "source": [
    "pre_acc_balanced = {}\n",
    "for name,algo in algos.items():\n",
    "    algo.fit(x_train_new, y_train_new)\n",
    "    y_pred = algo.predict(x_test_new)\n",
    "    pre_acc_balanced[name] = {\n",
    "        'Precision': precision_score(y_test_new, y_pred),\n",
    "        'Accuracy': accuracy_score(y_test_new, y_pred),\n",
    "        'Confusion Matrix': confusion_matrix(y_test_new, y_pred),\n",
    "    }"
   ]
  },
  {
   "cell_type": "code",
   "execution_count": 40,
   "metadata": {
    "execution": {
     "iopub.execute_input": "2023-08-15T12:39:00.329991Z",
     "iopub.status.busy": "2023-08-15T12:39:00.329663Z",
     "iopub.status.idle": "2023-08-15T12:39:00.339042Z",
     "shell.execute_reply": "2023-08-15T12:39:00.337739Z",
     "shell.execute_reply.started": "2023-08-15T12:39:00.329968Z"
    }
   },
   "outputs": [
    {
     "data": {
      "text/plain": [
       "{'SVC': {'Precision': 0.5853658536585366,\n",
       "  'Accuracy': 0.631578947368421,\n",
       "  'Confusion Matrix': array([[36, 17],\n",
       "         [18, 24]])},\n",
       " 'LR': {'Precision': 0.9512195121951219,\n",
       "  'Accuracy': 0.9473684210526315,\n",
       "  'Confusion Matrix': array([[51,  2],\n",
       "         [ 3, 39]])},\n",
       " 'RFC': {'Precision': 1.0,\n",
       "  'Accuracy': 0.968421052631579,\n",
       "  'Confusion Matrix': array([[53,  0],\n",
       "         [ 3, 39]])},\n",
       " 'XGB': {'Precision': 0.9285714285714286,\n",
       "  'Accuracy': 0.9368421052631579,\n",
       "  'Confusion Matrix': array([[50,  3],\n",
       "         [ 3, 39]])},\n",
       " 'BC': {'Precision': 0.975,\n",
       "  'Accuracy': 0.9578947368421052,\n",
       "  'Confusion Matrix': array([[52,  1],\n",
       "         [ 3, 39]])}}"
      ]
     },
     "execution_count": 40,
     "metadata": {},
     "output_type": "execute_result"
    }
   ],
   "source": [
    "pre_acc_balanced"
   ]
  },
  {
   "cell_type": "code",
   "execution_count": null,
   "metadata": {},
   "outputs": [],
   "source": [
    "rfc.fit(x_train_new,y_train_new)"
   ]
  },
  {
   "cell_type": "code",
   "execution_count": 42,
   "metadata": {
    "execution": {
     "iopub.execute_input": "2023-08-15T12:43:47.854365Z",
     "iopub.status.busy": "2023-08-15T12:43:47.853347Z",
     "iopub.status.idle": "2023-08-15T12:43:47.859706Z",
     "shell.execute_reply": "2023-08-15T12:43:47.858126Z",
     "shell.execute_reply.started": "2023-08-15T12:43:47.854298Z"
    }
   },
   "outputs": [],
   "source": [
    "from sklearn.metrics import classification_report"
   ]
  },
  {
   "cell_type": "code",
   "execution_count": 44,
   "metadata": {
    "execution": {
     "iopub.execute_input": "2023-08-15T12:44:11.149274Z",
     "iopub.status.busy": "2023-08-15T12:44:11.147993Z",
     "iopub.status.idle": "2023-08-15T12:44:11.171566Z",
     "shell.execute_reply": "2023-08-15T12:44:11.170702Z",
     "shell.execute_reply.started": "2023-08-15T12:44:11.149236Z"
    }
   },
   "outputs": [
    {
     "name": "stdout",
     "output_type": "stream",
     "text": [
      "              precision    recall  f1-score   support\n",
      "\n",
      "           0       0.95      1.00      0.97        53\n",
      "           1       1.00      0.93      0.96        42\n",
      "\n",
      "    accuracy                           0.97        95\n",
      "   macro avg       0.97      0.96      0.97        95\n",
      "weighted avg       0.97      0.97      0.97        95\n",
      "\n"
     ]
    }
   ],
   "source": [
    "print(classification_report(y_test_new,rfc.predict(x_test_new)))"
   ]
  },
  {
   "cell_type": "markdown",
   "metadata": {},
   "source": [
    "### SAVING MODEL"
   ]
  },
  {
   "cell_type": "code",
   "execution_count": 46,
   "metadata": {},
   "outputs": [],
   "source": [
    "import joblib as jb"
   ]
  },
  {
   "cell_type": "code",
   "execution_count": 49,
   "metadata": {},
   "outputs": [
    {
     "data": {
      "text/plain": [
       "['Credit_Card_Fraud_Detection']"
      ]
     },
     "execution_count": 49,
     "metadata": {},
     "output_type": "execute_result"
    }
   ],
   "source": [
    "jb.dump(rfc,'Credit_Card_Fraud_Detection')"
   ]
  },
  {
   "cell_type": "code",
   "execution_count": 50,
   "metadata": {},
   "outputs": [],
   "source": [
    "rfc = jb.load('Credit_Card_Fraud_Detection')"
   ]
  },
  {
   "cell_type": "code",
   "execution_count": 51,
   "metadata": {},
   "outputs": [
    {
     "data": {
      "text/plain": [
       "Index(['Time', 'V1', 'V2', 'V3', 'V4', 'V5', 'V6', 'V7', 'V8', 'V9', 'V10',\n",
       "       'V11', 'V12', 'V13', 'V14', 'V15', 'V16', 'V17', 'V18', 'V19', 'V20',\n",
       "       'V21', 'V22', 'V23', 'V24', 'V25', 'V26', 'V27', 'V28', 'Amount',\n",
       "       'Class'],\n",
       "      dtype='object')"
      ]
     },
     "execution_count": 51,
     "metadata": {},
     "output_type": "execute_result"
    }
   ],
   "source": [
    "df.columns"
   ]
  },
  {
   "cell_type": "code",
   "execution_count": null,
   "metadata": {},
   "outputs": [],
   "source": []
  }
 ],
 "metadata": {
  "kernelspec": {
   "display_name": "Python 3 (ipykernel)",
   "language": "python",
   "name": "python3"
  },
  "language_info": {
   "codemirror_mode": {
    "name": "ipython",
    "version": 3
   },
   "file_extension": ".py",
   "mimetype": "text/x-python",
   "name": "python",
   "nbconvert_exporter": "python",
   "pygments_lexer": "ipython3",
   "version": "3.10.9"
  }
 },
 "nbformat": 4,
 "nbformat_minor": 4
}
